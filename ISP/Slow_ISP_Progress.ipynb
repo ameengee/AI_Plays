{
  "nbformat": 4,
  "nbformat_minor": 0,
  "metadata": {
    "colab": {
      "provenance": []
    },
    "kernelspec": {
      "name": "python3",
      "display_name": "Python 3"
    },
    "language_info": {
      "name": "python"
    }
  },
  "cells": [
    {
      "cell_type": "code",
      "execution_count": null,
      "metadata": {
        "id": "7j4Nx281KtlG"
      },
      "outputs": [],
      "source": [
        "import numpy as np\n",
        "from skimage import io\n",
        "from matplotlib import pyplot as plt\n",
        "import time"
      ]
    },
    {
      "cell_type": "code",
      "source": [
        "pgm_path = '/content/color_checker.pgm'\n",
        "bayer = io.imread(pgm_path).astype(np.uint16)"
      ],
      "metadata": {
        "id": "o8bv57N2Dl9f"
      },
      "execution_count": null,
      "outputs": []
    },
    {
      "cell_type": "code",
      "source": [
        "# plt.imshow(bayer, cmap = 'gray')"
      ],
      "metadata": {
        "id": "wxN76IopEbp1"
      },
      "execution_count": null,
      "outputs": []
    },
    {
      "cell_type": "code",
      "source": [
        "# plt.imshow(bayer[:50, :50], cmap = 'gray')"
      ],
      "metadata": {
        "id": "oJHnZ_z5EIpm"
      },
      "execution_count": null,
      "outputs": []
    },
    {
      "cell_type": "markdown",
      "source": [
        "Gradient Based Filter for Dead Pixel Concealment (DPC)"
      ],
      "metadata": {
        "id": "czwgY38DmO9O"
      }
    },
    {
      "cell_type": "code",
      "source": [
        "def DPC(bayer, thresh):\n",
        "  \"\"\"\n",
        "  inputs:\n",
        "    bayer = raw bayer domain image\n",
        "    thresh = threshold value\n",
        "\n",
        "  outputs:\n",
        "    dpc_img = bayer domain image with dead pixels corrected for with gradient filter\n",
        "  \"\"\"\n",
        "\n",
        "  dpc_img = np.copy(bayer)  # create a copy of the bayer image to fix dead pixels in\n",
        "  rows, cols = np.shape(bayer)\n",
        "  padded_bayer = np.pad(bayer, (2,2), mode = 'reflect') # pad image to allow for 5x5 filter\n",
        "\n",
        "  for i in range(2, rows+2, 1):\n",
        "    for j in range(2, cols+2, 1):\n",
        "      # iterate over every pixel in the original bayer image\n",
        "\n",
        "      p_0 = padded_bayer[i, j]\n",
        "      p_1 = padded_bayer[i-2, j-2]\n",
        "      p_2 = padded_bayer[i-2, j]\n",
        "      p_3 = padded_bayer[i-2, j+2]\n",
        "      p_4 = padded_bayer[i, j-2]\n",
        "      p_5 = padded_bayer[i, j+2]\n",
        "      p_6 = padded_bayer[i+2, j-2]\n",
        "      p_7 = padded_bayer[i+2, j]\n",
        "      p_8 = padded_bayer[i+2, j+2]\n",
        "      neighbors = np.array([p_1, p_2, p_3, p_4, p_5, p_6, p_7, p_8])\n",
        "\n",
        "      diff = np.abs(neighbors - p_0)  # for dead pixel detection\n",
        "\n",
        "      if np.sum(diff > thresh) >= 1:\n",
        "        # if dead pixel is detected, the run gradient based correction\n",
        "        dv = (p_2 + p_7 + 1) // 2\n",
        "        dh = (p_4 + p_5 + 1) // 2\n",
        "        ddr = (p_1 + p_8 + 1) // 2\n",
        "        ddl = (p_3 + p_6 + 1) // 2\n",
        "\n",
        "        dpc_img[i-2, j-2] = min(dv, dh, ddr, ddl) # add the corrected pixel value to the copied image\n",
        "\n",
        "  return dpc_img"
      ],
      "metadata": {
        "id": "JS3nizy1sLHM"
      },
      "execution_count": null,
      "outputs": []
    },
    {
      "cell_type": "code",
      "source": [
        "thresh = np.max(bayer) * 0.05\n",
        "dpc_img = DPC(bayer, thresh)\n",
        "# plt.imshow(dpc_img, cmap = 'gray')"
      ],
      "metadata": {
        "id": "2RHtu_4Yyp_8"
      },
      "execution_count": null,
      "outputs": []
    },
    {
      "cell_type": "markdown",
      "source": [
        "Black Level Compensation (BLC)\n"
      ],
      "metadata": {
        "id": "CMy-dl0KmxLE"
      }
    },
    {
      "cell_type": "code",
      "source": [
        "def BLC(dpc_img, offsets):\n",
        "  \"\"\"\n",
        "  inputs:\n",
        "    dpc_img = bayer domain image after dead pixel concealment\n",
        "    offsets = dictionary with black level offset values, keys (bl_r, bl_gr, bl_gb, bl_b)\n",
        "\n",
        "  outputs:\n",
        "    blc_img = bayer domain image with adjusted black levels\n",
        "  \"\"\"\n",
        "\n",
        "  rows, cols = dpc_img.shape\n",
        "  blc_img = np.empty((rows, cols)) # create a blank image with the same size as the bayer image to adjust black levels in\n",
        "\n",
        "\n",
        "  for i in range(rows):\n",
        "    for j in range(cols):\n",
        "      if (i % 2 == 0) & (j % 2 == 0): # if row and col index = even, handling red pixel\n",
        "        blc_img[i, j] = dpc_img[i, j] + offsets['bl_r']\n",
        "      elif (i % 2 == 0) & (j % 2 != 0): # if row index = even and col index = odd, handling green pixel on red row\n",
        "        blc_img[i, j] = dpc_img[i, j] + offsets['bl_gr']\n",
        "      elif (i % 2 != 0) & (j % 2 == 0): # if row index = odd and col index = even, handline green pixel on blue row\n",
        "        blc_img[i, j] = dpc_img[i, j] + offsets['bl_gb']\n",
        "      elif (i % 2 != 0) & (j % 2 != 0): # if row and col index = odd, handling blue pixel\n",
        "        blc_img[i, j] = dpc_img[i, j] + offsets['bl_b']\n",
        "\n",
        "  return np.clip(blc_img, 0, None)"
      ],
      "metadata": {
        "id": "4Qq9Cwy_fIqR"
      },
      "execution_count": null,
      "outputs": []
    },
    {
      "cell_type": "code",
      "source": [
        "offsets = {'bl_r':-10, 'bl_gr':-10, 'bl_gb':-10, 'bl_b':-10}\n",
        "blc_img = BLC(dpc_img, offsets)\n",
        "# plt.imshow(blc_img, cmap = 'gray')"
      ],
      "metadata": {
        "id": "dgy6qxbmEEzF"
      },
      "execution_count": null,
      "outputs": []
    },
    {
      "cell_type": "markdown",
      "source": [
        "Lens Shading Correction (LSC)"
      ],
      "metadata": {
        "id": "6IlyGj7zF6tC"
      }
    },
    {
      "cell_type": "code",
      "source": [
        "def LSC(blc_img, k, offset):\n",
        "  \"\"\"\n",
        "  inputs:\n",
        "    blc_img = bayer domain image after black level compensation\n",
        "    k = correction factor to control strength of the correction\n",
        "    offset = offset in case the final image is too bright\n",
        "\n",
        "  outputs:\n",
        "    lsc_img = bayer domain image adjusted for lens shading\n",
        "  \"\"\"\n",
        "\n",
        "  lsc_img = np.copy(blc_img) # create a copy of the bayer image to adjust lens shading in\n",
        "  rows, cols = blc_img.shape\n",
        "  center_row = (rows // 2) + 1 # store indeces for the center of the image\n",
        "  center_col = (cols // 2) + 1\n",
        "\n",
        "  for i in range(rows):\n",
        "    for j in range(cols):\n",
        "      r = ( (i - center_row)**2 + (j - center_col)**2 )**0.5 # radial distance to the current pixel\n",
        "      lsc_img[i, j] = int( blc_img[i, j] * (k * r + 1) - offset)\n",
        "\n",
        "  return np.clip(lsc_img, 0, (2**16 - 1))"
      ],
      "metadata": {
        "id": "apnqn0QgF6Ao"
      },
      "execution_count": null,
      "outputs": []
    },
    {
      "cell_type": "code",
      "source": [
        "k = 0.0015\n",
        "offset = 0\n",
        "lsc_img = LSC(blc_img, k, offset)\n",
        "# plt.imshow(lsc_img, cmap = 'gray')"
      ],
      "metadata": {
        "id": "b1EKNdKzRGgd"
      },
      "execution_count": null,
      "outputs": []
    },
    {
      "cell_type": "markdown",
      "source": [
        "Anti-Aliasing Noise Filter (AAF)"
      ],
      "metadata": {
        "id": "GS_ODdAHTYMu"
      }
    },
    {
      "cell_type": "code",
      "source": [
        "def AAF(lsc_img, k):\n",
        "  \"\"\"\n",
        "  inputs:\n",
        "    lsc_img = bayer domain image after lens shading correcting\n",
        "    k = anti-aliasing correction factor to control strenght of anti-aliasing\n",
        "\n",
        "  outputs:\n",
        "    aaf_img = bayer domain image after applying anti-aliasing\n",
        "  \"\"\"\n",
        "\n",
        "  filter = np.array([\n",
        "      [1, 0, 1, 0, 1],\n",
        "      [0, 0, 0, 0, 0],\n",
        "      [1, 0, k, 0, 1],\n",
        "      [0, 0, 0, 0, 0],\n",
        "      [1, 0, 1, 0, 1]\n",
        "  ]) / (k+8) # define filter for a weighted average over neighboring pixels\n",
        "\n",
        "  rows, cols = lsc_img.shape\n",
        "  aaf_img = np.empty((rows, cols)) # create an empty array the size of the bayer image to apply anti-aliasing in\n",
        "  padded_img = np.pad(lsc_img, (2,2), 'reflect') # pad image to allow filter to work on image edges\n",
        "\n",
        "  for i in range(2, rows+2):\n",
        "    for j in range(2, cols+2):\n",
        "      aaf_img[i-2, j-2] = np.sum(filter * padded_img[i-2:i+3, j-2:j+3]) # compute the dot product using the filter and neighbor pixels\n",
        "\n",
        "  return aaf_img"
      ],
      "metadata": {
        "id": "nOxKQkZGTgVP"
      },
      "execution_count": null,
      "outputs": []
    },
    {
      "cell_type": "code",
      "source": [
        "k = 8\n",
        "aaf_img = AAF(lsc_img, k)\n",
        "# plt.imshow(aaf_img, cmap = 'gray')"
      ],
      "metadata": {
        "id": "AjKlrzQo3Je8"
      },
      "execution_count": null,
      "outputs": []
    },
    {
      "cell_type": "markdown",
      "source": [
        "Auto White Balance Gain Control (AWB)"
      ],
      "metadata": {
        "id": "xgw9QXBy6hHb"
      }
    },
    {
      "cell_type": "code",
      "source": [
        "def AWB(aaf_img):\n",
        "  \"\"\"\n",
        "  inputs:\n",
        "    aaf_img = bayer domain image after anti-aliasing noise filter\n",
        "\n",
        "  outputs:\n",
        "    awb_img = bayer domain image after auto white balance\n",
        "  \"\"\"\n",
        "\n",
        "  awb_img = np.copy(aaf_img) # create a copy of the bayer image to apply auto white balance\n",
        "\n",
        "  r = awb_img[::2, ::2] # use array splicing to extract r, gr, gb, and b pixels from the full bayer image\n",
        "  gr = awb_img[::2, 1::2]\n",
        "  gb = awb_img[1::2, ::2]\n",
        "  b = awb_img[1::2, 1::2]\n",
        "\n",
        "  r_ave = np.mean(r) # compute averages of r, g, and b channels\n",
        "  g_ave = (np.mean(gr) + np.mean(gb)) / 2\n",
        "  b_ave = np.mean(b)\n",
        "\n",
        "  r_gain = g_ave / r_ave # compute gains for r, g, and b channels\n",
        "  g_gain = g_ave / g_ave\n",
        "  b_gain = g_ave / b_ave\n",
        "\n",
        "  awb_img[::2, ::2] = r * r_gain # apply gains to r, g, and b channels\n",
        "  awb_img[::2, 1::2] = gr * g_gain\n",
        "  awb_img[1::2, ::2] = gb * g_gain\n",
        "  awb_img[1::2, 1::2] = b * b_gain\n",
        "\n",
        "  return awb_img.astype(np.uint16)"
      ],
      "metadata": {
        "id": "e3W4GvZD6WqA"
      },
      "execution_count": null,
      "outputs": []
    },
    {
      "cell_type": "code",
      "source": [
        "module_start = time.time()\n",
        "awb_img = AWB(bayer)\n",
        "print(\"time taken by this module = \", (time.time() - module_start))\n",
        "\n",
        "plt.imshow(awb_img, cmap = 'gray')"
      ],
      "metadata": {
        "id": "hNBtZyyX6p2K"
      },
      "execution_count": null,
      "outputs": []
    },
    {
      "cell_type": "markdown",
      "source": [
        "Color Filter Array Interpolation (CFA) using Bilinear Interpolation technique and loops\n"
      ],
      "metadata": {
        "id": "k5fwch3srizY"
      }
    },
    {
      "cell_type": "code",
      "source": [
        "def CFA(awb_img):\n",
        "  \"\"\"\n",
        "  inputs:\n",
        "    awb_img = bayer domain image after auto white balance gain control\n",
        "\n",
        "  outputs:\n",
        "    cfa_img = 8 bit RGB image\n",
        "  \"\"\"\n",
        "\n",
        "  awb_img = awb_img.astype(np.uint32) # change dtype to allow for larger numbers during demosaicing\n",
        "  rows, cols = awb_img.shape\n",
        "  r = np.empty((rows, cols))\n",
        "  g = np.empty((rows, cols))\n",
        "  b = np.empty((rows, cols))\n",
        "  padded_img = np.pad(awb_img, (1,1), 'reflect')\n",
        "  max_val = np.max(awb_img)\n",
        "\n",
        "  for i in range(1, rows+1):\n",
        "    for j in range(1, cols+1):\n",
        "      if (i % 2 == 0) & (j % 2 == 0): # if row and col index = even, handling red pixel\n",
        "        \"\"\"\n",
        "        red pixel is directly read off the bayer image\n",
        "        green pixel is average of surrounding 4 green pixels (N, E, S, W)\n",
        "        blue pixel is average of surrounding 4 blue pixels (NE, SE, SE, SW)\n",
        "        \"\"\"\n",
        "        r[i-1, j-1] = padded_img[i,j]\n",
        "        g[i-1, j-1] = (padded_img[i-1, j] + padded_img[i+1, j] + padded_img[i, j-1] + padded_img[i, j+1]) // 4\n",
        "        b[i-1, j-1] = (padded_img[i-1, j-1] + padded_img[i-1, j+1] + padded_img[i+1, j-1] + padded_img[i+1, j+1]) // 4\n",
        "\n",
        "      elif (i % 2 == 0) & (j % 2 != 0): # if row index = even and col index = odd, handling green pixel on red row\n",
        "        \"\"\"\n",
        "        red pixel is average of right and left red pixels (E, W)\n",
        "        green pixel is directly read off the bayer image\n",
        "        blue pixel is average of top and bottom blue pixels (N, S)\n",
        "        \"\"\"\n",
        "        r[i-1, j-1] = (padded_img[i, j-1] + padded_img[i, j+1]) // 2\n",
        "        g[i-1, j-1] = padded_img[i,j]\n",
        "        b[i-1, j-1] = (padded_img[i-1, j] + padded_img[i+1, j]) // 2\n",
        "\n",
        "      elif (i % 2 != 0) & (j % 2 == 0): # if row index = odd and col index = even, handline green pixel on blue row\n",
        "        \"\"\"\n",
        "        red pixel is average of top and bottom red pixels (N, S)\n",
        "        green pixel is directly read off the bayer image\n",
        "        blue pixel is average of right and left blue pixels (E, W)\n",
        "        \"\"\"\n",
        "        r[i-1, j-1] = (padded_img[i, j-1] + padded_img[i, j+1]) // 2\n",
        "        g[i-1, j-1] = padded_img[i,j]\n",
        "        b[i-1, j-1] = (padded_img[i-1, j] + padded_img[i+1, j]) // 2\n",
        "\n",
        "      elif (i % 2 != 0) & (j % 2 != 0): # if row and col index = odd, handling blue pixel\n",
        "        \"\"\"\n",
        "        red pixel is average of surrounding 4 red pixels (NE, SE, SE, SW)\n",
        "        green pixel is average of surrounding 4 green pixels (N, E, S, W)\n",
        "        blue pixel is directly read off the bayer image\n",
        "        \"\"\"\n",
        "        r[i-1, j-1] = (padded_img[i-1, j-1] + padded_img[i-1, j+1] + padded_img[i+1, j-1] + padded_img[i+1, j+1]) // 4\n",
        "        g[i-1, j-1] = (padded_img[i-1, j] + padded_img[i+1, j] + padded_img[i, j-1] + padded_img[i, j+1]) // 4\n",
        "        b[i-1, j-1] = padded_img[i,j]\n",
        "\n",
        "  r = np.clip(r, 0, max_val) # ensure all values are of the correct range before stacking\n",
        "  g = np.clip(g, 0, max_val)\n",
        "  b = np.clip(b, 0, max_val)\n",
        "\n",
        "  cfa_img = np.dstack((r, g, b)) # stack red, green, and blue channels dimensionally to create an RGB image\n",
        "  cfa_img = ( (cfa_img / max_val) * 255).astype(np.uint8)\n",
        "\n",
        "  return cfa_img"
      ],
      "metadata": {
        "id": "OsGEucN-H0Dk"
      },
      "execution_count": null,
      "outputs": []
    },
    {
      "cell_type": "code",
      "source": [
        "cfa_img = CFA(awb_img)\n",
        "plt.imshow(cfa_img)"
      ],
      "metadata": {
        "id": "pBbmBrp8R7r8"
      },
      "execution_count": null,
      "outputs": []
    },
    {
      "cell_type": "code",
      "source": [
        "def GAC(cfa_img, gamma):\n",
        "  \"\"\"\n",
        "  inputs:\n",
        "    cfa_img = RGB image right after demosaicing\n",
        "    gamma = correction factor\n",
        "\n",
        "  outputs:\n",
        "    gac_img = RGB imgae after gamma correction\n",
        "  \"\"\"\n",
        "\n",
        "  cfa_img = cfa_img.astype(np.uint16) # change dtype to allow for larger numbers during gamma correction\n",
        "  gac_img = cfa_img**(1 / gamma) # apply gamma correction\n",
        "  max_val = np.max(gac_img)\n",
        "\n",
        "  gac_img = ( (gac_img / max_val) * 255).astype(np.uint8) # resize the RGB image to 8 bit integer and skip the CCM\n",
        "\n",
        "  return gac_img.astype(np.uint8)"
      ],
      "metadata": {
        "id": "A-Def0J_ZY6c"
      },
      "execution_count": null,
      "outputs": []
    },
    {
      "cell_type": "code",
      "source": [
        "gamma = 2.2\n",
        "gac_img = GAC(cfa_img, gamma)\n",
        "plt.imshow(gac_img)"
      ],
      "metadata": {
        "id": "TgKerG3Tku2F"
      },
      "execution_count": null,
      "outputs": []
    },
    {
      "cell_type": "markdown",
      "source": [
        "Color Space Conversion (CSC)"
      ],
      "metadata": {
        "id": "08zLV5fwuTQT"
      }
    },
    {
      "cell_type": "code",
      "source": [
        "def CSC(gac_img):\n",
        "  \"\"\"\n",
        "  inputs:\n",
        "    gac_img = RGB image after gamma correction\n",
        "\n",
        "  outputs:\n",
        "    y = gray scale image as y channel (luma)\n",
        "    cbcr_img = color information (chroma)\n",
        "  \"\"\"\n",
        "\n",
        "  r = gac_img[:, :, 0] # seperate R, G, and B channels\n",
        "  g = gac_img[:, :, 1]\n",
        "  b = gac_img[:, :, 2]\n",
        "\n",
        "  y = 0.299 * (r/255) + 0.587 * (g/255) + 0.114 * (b/255) # apply the convesrion formulas\n",
        "  cb = 0.564 * ( (b/255) - y)\n",
        "  cr = 0.713 * ( (r/255) - y)\n",
        "\n",
        "  cbcr_img = np.dstack((cb, cr)) # chroma image\n",
        "\n",
        "  return y, cbcr_img"
      ],
      "metadata": {
        "id": "0K2JltRvuSrw"
      },
      "execution_count": null,
      "outputs": []
    },
    {
      "cell_type": "code",
      "source": [
        "def YCbCr_to_RGB(y, cbcr_img):\n",
        "    \"\"\"\n",
        "    inputs:\n",
        "      y = gray scale image as y channel (luma)\n",
        "      cbcr_img = chroma color information (Cb and Cr channels)\n",
        "\n",
        "    output:\n",
        "      rgb_img = RGB image after conversion from YCbCr\n",
        "    \"\"\"\n",
        "\n",
        "    cb = cbcr_img[:, :, 0] # seperate Cb and Cr channels\n",
        "    cr = cbcr_img[:, :, 1]\n",
        "\n",
        "    r = (y + (cr/0.713)).astype(np.uint8) # apply the convesrion formulas\n",
        "    b = (y + (cb/0.564)).astype(np.uint8)\n",
        "    g = ((y - 0.299*r - 0.114*b) / 0.587).astype(np.uint8)\n",
        "\n",
        "    rgb_img = np.dstack((r, g, b)) # Stack R, G, and B channels to form the RGB image\n",
        "\n",
        "    return rgb_img"
      ],
      "metadata": {
        "id": "sTKJABq45pgP"
      },
      "execution_count": null,
      "outputs": []
    },
    {
      "cell_type": "code",
      "source": [
        "y, cbcr_img = CSC(gac_img)\n",
        "\n",
        "'''\n",
        "plt.subplot(1,3,1)\n",
        "plt.imshow(y, cmap = 'gray')\n",
        "\n",
        "plt.subplot(1,3,2)\n",
        "plt.imshow(cbcr_img[:, :, 0], cmap = 'gray')\n",
        "\n",
        "plt.subplot(1,3,3)\n",
        "plt.imshow(cbcr_img[:, :, 1], cmap = 'gray')\n",
        "'''"
      ],
      "metadata": {
        "id": "0Qg_jI8j52_Z"
      },
      "execution_count": null,
      "outputs": []
    },
    {
      "cell_type": "markdown",
      "source": [
        "Noise Filter for Chroma (NFC)"
      ],
      "metadata": {
        "id": "yvR6L7zGLU-e"
      }
    },
    {
      "cell_type": "code",
      "source": [
        "def NFC(cbcr_img, alpha, thresh):\n",
        "  \"\"\"\n",
        "  inputs:\n",
        "    cbcr_img = Cb and Cr channels of the YCbCr image\n",
        "    alpha = controls intensity of correction for noisy pixels\n",
        "    thresh = controls strictness of noisy pixel detection\n",
        "\n",
        "  outputs:\n",
        "    nfc_img = Cb and Cr channels of YCbCr image after applying noise filter on both\n",
        "  \"\"\"\n",
        "\n",
        "  nfc_img = np.copy(cbcr_img) # make a copy of the cbcr_img to apply noise filter for chroma\n",
        "\n",
        "  for k in range(2):\n",
        "    # apply the filter to both Cb and Cr\n",
        "\n",
        "    img = cbcr_img[:, :, k]\n",
        "    editted_img = nfc_img[:, :, k]\n",
        "    rows, cols = img.shape\n",
        "    padded_img = np.pad(img, (2,2), 'reflect')\n",
        "\n",
        "    for i in range(2, rows+2, 1):\n",
        "      for j in range(2, cols+2, 1):\n",
        "        # iterate over every pixel in the image\n",
        "\n",
        "        neighbors = padded_img[i-2:i+3, j-2:j+3] # extract 5x5 section\n",
        "        p0 = neighbors[2, 2] # extract p0\n",
        "\n",
        "        # calculate mean of all neighboring pixels\n",
        "        mean = ( np.sum(neighbors) - p0 ) / 24\n",
        "\n",
        "        # calculate standard deviation of all neighboring pixels\n",
        "        neighbors = neighbors - mean\n",
        "        neighbors[2, 2] = 0 # remove p0 from neighbors to not affect standard dev calculations\n",
        "        stand_dev = ( np.sum(neighbors**2) / 24 )**0.5\n",
        "\n",
        "        if p0 < ( mean - (thresh * stand_dev) ) or p0 > ( mean + (thresh * stand_dev) ): # current pixel not w/in 2.5 * std, apply correction\n",
        "          editted_img[i-2, j-2] = alpha * mean + (1 - alpha) * p0\n",
        "\n",
        "    nfc_img[:, :, k] = editted_img\n",
        "\n",
        "  return nfc_img.astype(np.uint8)"
      ],
      "metadata": {
        "id": "UpGszBSnLULl"
      },
      "execution_count": null,
      "outputs": []
    },
    {
      "cell_type": "code",
      "source": [
        "alpha = 0.3\n",
        "thresh = 2.5\n",
        "nfc_img = NFC(cbcr_img, alpha, thresh)\n",
        "\n",
        "'''\n",
        "plt.subplot(131)\n",
        "plt.imshow(nfc_img[:, :, 0], cmap = 'gray')\n",
        "\n",
        "plt.subplot(132)\n",
        "plt.imshow(nfc_img[:, :, 1], cmap = 'gray')\n",
        "\n",
        "plt.subplot(133)\n",
        "rgb_img = YCbCr_to_RGB(y, nfc_img)\n",
        "plt.imshow(rgb_img)\n",
        "'''"
      ],
      "metadata": {
        "id": "tHeKmSHdRpoK"
      },
      "execution_count": null,
      "outputs": []
    },
    {
      "cell_type": "markdown",
      "source": [
        "Hue Saturation Control (HSC)"
      ],
      "metadata": {
        "id": "2zY_wmYLT9hf"
      }
    },
    {
      "cell_type": "code",
      "source": [
        "def HSC(nfc_img, delta_theta, s):\n",
        "  \"\"\"\n",
        "  inputs:\n",
        "    nfc_img = Cb and Cr channels after noise filter for chroma\n",
        "    delta_theta = change in hue angle\n",
        "    s = saturation correction intensity\n",
        "\n",
        "  outputs:\n",
        "    hsc_img = Cb and Cr channels after hue saturation control\n",
        "  \"\"\"\n",
        "\n",
        "  nfc_img = nfc_img.astype(np.uint16) # change dtype to allow for larger numbers\n",
        "  hsc_img = np.copy(nfc_img) # make a copy to apply hue saturation control in\n",
        "\n",
        "  nfc_cb = nfc_img[:, :, 0] + 1 # add 1 to address divide by zero error\n",
        "  nfc_cr = nfc_img[:, :, 1] + 1\n",
        "\n",
        "  theta = np.arctan(nfc_cr/nfc_cb) # calculate current hue\n",
        "  theta_new = theta + delta_theta\n",
        "\n",
        "  dist = np.sqrt(nfc_cb**2 + nfc_cr**2) # calculate euclidain distance for use as normalizing factor\n",
        "  new_dist = s * dist\n",
        "\n",
        "  hsc_cb = new_dist * np.cos(theta_new) # apply conversion formulas\n",
        "  hsc_cr = new_dist * np.sin(theta_new)\n",
        "\n",
        "  hsc_img[:, :, 0] = np.clip(hsc_cb, 0, 255).astype(np.uint8) # clip resulting cb and cr channels and set dtype\n",
        "  hsc_img[:, :, 1] = np.clip(hsc_cr, 0, 255).astype(np.uint8)\n",
        "\n",
        "  return hsc_img"
      ],
      "metadata": {
        "id": "oGD0aPW5UClJ"
      },
      "execution_count": null,
      "outputs": []
    },
    {
      "cell_type": "code",
      "source": [
        "delta_theta = 0\n",
        "s = 1\n",
        "hsc_img = HSC(nfc_img, delta_theta, s)\n",
        "\n",
        "'''\n",
        "rgb_img = YCbCr_to_RGB(y, hsc_img)\n",
        "plt.imshow(rgb_img)\n",
        "'''"
      ],
      "metadata": {
        "id": "TYwSiNobGfTw"
      },
      "execution_count": null,
      "outputs": []
    },
    {
      "cell_type": "code",
      "source": [],
      "metadata": {
        "id": "Ov6XrGawDCOt"
      },
      "execution_count": null,
      "outputs": []
    }
  ]
}